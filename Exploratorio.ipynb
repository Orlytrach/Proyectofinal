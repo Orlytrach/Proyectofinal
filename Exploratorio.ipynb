{
 "cells": [
  {
   "cell_type": "code",
   "execution_count": null,
   "id": "6d192327-5e51-41d0-93c7-43b563703686",
   "metadata": {},
   "outputs": [],
   "source": [
    "import pandas as pd\n",
    "import numpy as np\n",
    "import os\n",
    "from pathlib import Path"
   ]
  },
  {
   "cell_type": "code",
   "execution_count": null,
   "id": "8f934a3e-4ad4-4232-9ca2-56cc6ca5cb03",
   "metadata": {},
   "outputs": [],
   "source": [
    "df = pd.read_csv(\"./Proyecto/DataSet1.csv\")\n",
    "df.head ()"
   ]
  },
  {
   "cell_type": "markdown",
   "id": "0848177f-cc88-4a55-a5ed-9b4eed702232",
   "metadata": {},
   "source": [
    "## Tamaño"
   ]
  },
  {
   "cell_type": "code",
   "execution_count": null,
   "id": "24ed4e60-9b4f-4831-8119-79cf49eb4ce2",
   "metadata": {},
   "outputs": [],
   "source": [
    "df.shape"
   ]
  },
  {
   "cell_type": "markdown",
   "id": "02340555-607a-4a84-b150-d700ed787b58",
   "metadata": {},
   "source": [
    "##  Años de la información"
   ]
  },
  {
   "cell_type": "code",
   "execution_count": null,
   "id": "383d7bc3-8e2e-475e-a78e-e5dd595ba0aa",
   "metadata": {},
   "outputs": [],
   "source": [
    "df ['Fecha Emision'].str[6:10].unique()"
   ]
  },
  {
   "cell_type": "code",
   "execution_count": null,
   "id": "6082e814-a5e9-4a7b-b7db-c0b35daba3bc",
   "metadata": {},
   "outputs": [],
   "source": [
    "df ['año'] = df['Fecha Emision'].str [6:10]\n",
    "df ['año'] = pd.to_numeric(df['año'])"
   ]
  },
  {
   "cell_type": "code",
   "execution_count": null,
   "id": "2c4b9d28-3250-4d8b-8b0d-6fa2e2f323ff",
   "metadata": {},
   "outputs": [],
   "source": [
    "df ['año'] = pd.DatetimeIndex(df['Fecha Emision']).year"
   ]
  },
  {
   "cell_type": "markdown",
   "id": "1e744e78-f051-4161-881d-776a2bbeae5e",
   "metadata": {},
   "source": [
    "##  Costo con impuesto"
   ]
  },
  {
   "cell_type": "code",
   "execution_count": null,
   "id": "5322b83c-537b-44be-b497-76cc20ae99f6",
   "metadata": {},
   "outputs": [],
   "source": [
    "df ['Importe'] = pd.to_numeric(df['Importe'])\n",
    "df ['Impuestos'] = pd.to_numeric(df['Impuestos'], downcast=\"float\")"
   ]
  },
  {
   "cell_type": "code",
   "execution_count": null,
   "id": "953dd69b-703e-4400-9d31-cfda60506e27",
   "metadata": {},
   "outputs": [],
   "source": [
    "df ['Costo total'] = df ['Importe']+df ['Impuestos']"
   ]
  },
  {
   "cell_type": "code",
   "execution_count": null,
   "id": "1fcdda48-14a9-491f-b8f8-f0be90aaa601",
   "metadata": {},
   "outputs": [],
   "source": [
    "df"
   ]
  },
  {
   "cell_type": "markdown",
   "id": "1f1de49e-b455-4657-9dc2-860010df681b",
   "metadata": {},
   "source": [
    "## Bases por año"
   ]
  },
  {
   "cell_type": "code",
   "execution_count": null,
   "id": "3c9834ef-5916-40f0-b6d5-fffed7788e2d",
   "metadata": {},
   "outputs": [],
   "source": [
    "df2021= df[df['año'] == 2021]"
   ]
  },
  {
   "cell_type": "code",
   "execution_count": null,
   "id": "a2db147f-0ccc-4c5d-8fab-87c26e6ca9d4",
   "metadata": {},
   "outputs": [],
   "source": [
    "df2021"
   ]
  },
  {
   "cell_type": "code",
   "execution_count": null,
   "id": "0a912bad-75a4-48f1-90d7-8f3664e914c2",
   "metadata": {},
   "outputs": [],
   "source": [
    "df2022= df[df['año'] == 2022]"
   ]
  },
  {
   "cell_type": "code",
   "execution_count": null,
   "id": "9d5e917b-7045-463b-8bcf-b090ea8456a3",
   "metadata": {},
   "outputs": [],
   "source": [
    "df2022"
   ]
  },
  {
   "cell_type": "markdown",
   "id": "94e4ac11-e7d0-45bd-932b-8d3bae1b1695",
   "metadata": {},
   "source": [
    "## 4) Paises "
   ]
  },
  {
   "cell_type": "code",
   "execution_count": null,
   "id": "8ce2d0ab-de66-4ac2-bad9-fef2cbc2fad3",
   "metadata": {},
   "outputs": [],
   "source": [
    "df ['País'].str[0:2].unique()"
   ]
  },
  {
   "cell_type": "markdown",
   "id": "311118fc-c70a-4045-867e-1121998d9dd5",
   "metadata": {},
   "source": [
    "##  Ventas por pais"
   ]
  },
  {
   "cell_type": "code",
   "execution_count": null,
   "id": "b81e933d-339f-49e9-9c9d-5b69003cbb20",
   "metadata": {},
   "outputs": [],
   "source": [
    "Ventatotalporpais= df.groupby('País').sum() ['Costo total']"
   ]
  },
  {
   "cell_type": "markdown",
   "id": "b55d4f94-ace5-492b-816d-3f3f7a702f37",
   "metadata": {},
   "source": [
    "## Gráfica ventas por país"
   ]
  },
  {
   "cell_type": "code",
   "execution_count": null,
   "id": "c157717c-1ff5-4d84-a706-f96e168d9a6d",
   "metadata": {},
   "outputs": [],
   "source": [
    "Ventatotalporpais.plot.bar()"
   ]
  },
  {
   "cell_type": "markdown",
   "id": "2fc95178-4e65-41f7-ab54-8b47751d4242",
   "metadata": {},
   "source": [
    "## Ventas por año"
   ]
  },
  {
   "cell_type": "code",
   "execution_count": null,
   "id": "eb8ed8a1-8df5-4e5e-be8d-e236182b6d46",
   "metadata": {},
   "outputs": [],
   "source": [
    "df.groupby('año').sum() ['Costo total']"
   ]
  },
  {
   "cell_type": "code",
   "execution_count": null,
   "id": "f6b3021f-ea3f-445c-be9f-c2711647d517",
   "metadata": {},
   "outputs": [],
   "source": []
  },
  {
   "cell_type": "markdown",
   "id": "fc787e11-5dcd-435b-acec-516bff9e517f",
   "metadata": {},
   "source": [
    "## Ventas por pais y año"
   ]
  },
  {
   "cell_type": "code",
   "execution_count": null,
   "id": "916f3e34-2603-49ca-bd81-64a8c7f9a7a7",
   "metadata": {},
   "outputs": [],
   "source": [
    "df2021.groupby ('País').sum () ['Costo total'] "
   ]
  },
  {
   "cell_type": "code",
   "execution_count": null,
   "id": "d553d93c-5487-4800-a045-8dd464deab24",
   "metadata": {},
   "outputs": [],
   "source": [
    "df2022.groupby ('País').sum () ['Costo total'] "
   ]
  },
  {
   "cell_type": "markdown",
   "id": "a5d2d59e-de54-401a-ab73-a0cb5554af9d",
   "metadata": {},
   "source": [
    "## Fechas más altas"
   ]
  },
  {
   "cell_type": "code",
   "execution_count": null,
   "id": "b0131398-9216-4529-a84d-7ada11b2c80c",
   "metadata": {},
   "outputs": [],
   "source": [
    "df.groupby ('Fecha Emision').sum () ['Costo total']"
   ]
  },
  {
   "cell_type": "markdown",
   "id": "6272d399-e15d-447f-9db2-19ce515e26d1",
   "metadata": {},
   "source": [
    "## Servicio con más impacto en ventas"
   ]
  },
  {
   "cell_type": "code",
   "execution_count": null,
   "id": "4e7499a7-f90d-4fc5-918f-abdc11799c4b",
   "metadata": {},
   "outputs": [],
   "source": [
    "df.groupby ('Movimiento Ventas').sum () ['Costo total']"
   ]
  },
  {
   "cell_type": "markdown",
   "id": "0c08f846-58ea-4baf-ac2f-43063bdb1f94",
   "metadata": {},
   "source": [
    "## Vehículo que más ventas"
   ]
  },
  {
   "cell_type": "code",
   "execution_count": null,
   "id": "ecadcf5c-c412-48ca-b606-1153e08f8a84",
   "metadata": {},
   "outputs": [],
   "source": [
    "Vehiculomayorventas = df.groupby ('Tracker Clase').sum () ['Costo total'].sort_values(ascending=False)"
   ]
  },
  {
   "cell_type": "code",
   "execution_count": null,
   "id": "316f2a63-1132-449d-ae94-a9f7c297a995",
   "metadata": {},
   "outputs": [],
   "source": [
    "Vehiculomayorventas"
   ]
  },
  {
   "cell_type": "markdown",
   "id": "364ecf82-c319-40ad-8e8b-ce7d54dbcd57",
   "metadata": {},
   "source": [
    "## Marca que más utiliza el servicio"
   ]
  },
  {
   "cell_type": "code",
   "execution_count": null,
   "id": "be7f077a-2077-4566-88a2-80757e68ab38",
   "metadata": {},
   "outputs": [],
   "source": [
    "Marcamasrentable= df.groupby ('Fabricante').sum () ['Costo total'].sort_values(ascending=False)"
   ]
  },
  {
   "cell_type": "code",
   "execution_count": null,
   "id": "841f5541-0196-4b25-a278-cb94f795157b",
   "metadata": {},
   "outputs": [],
   "source": [
    "Marcamasrentable"
   ]
  },
  {
   "cell_type": "code",
   "execution_count": null,
   "id": "b6da3772-8cca-4947-ae56-d354954c82ef",
   "metadata": {},
   "outputs": [],
   "source": [
    "Marcamasrentable.index.values[Marcamasrentable.argmax()]"
   ]
  },
  {
   "cell_type": "code",
   "execution_count": null,
   "id": "5e3943a8-8640-4060-89d0-9a7776cd95af",
   "metadata": {},
   "outputs": [],
   "source": [
    "import matplotlib.pyplot as plt\n",
    "marcas = Marcamasrentable.index.values\n"
   ]
  },
  {
   "cell_type": "code",
   "execution_count": null,
   "id": "3b3bd297-e705-4713-a4db-19d3694ad8f3",
   "metadata": {},
   "outputs": [],
   "source": [
    "marcas"
   ]
  },
  {
   "cell_type": "markdown",
   "id": "0858c885-d76d-4b9d-9691-7bfe48ebb4ed",
   "metadata": {},
   "source": [
    "## Usuario con más ventas"
   ]
  },
  {
   "cell_type": "code",
   "execution_count": null,
   "id": "1685e2ff-e3a3-4cd2-ba21-14c27b748635",
   "metadata": {},
   "outputs": [],
   "source": [
    "df.groupby ('Usuario \\nHost').sum () ['Costo total']"
   ]
  }
 ],
 "metadata": {
  "kernelspec": {
   "display_name": "Python 3 (ipykernel)",
   "language": "python",
   "name": "python3"
  },
  "language_info": {
   "codemirror_mode": {
    "name": "ipython",
    "version": 3
   },
   "file_extension": ".py",
   "mimetype": "text/x-python",
   "name": "python",
   "nbconvert_exporter": "python",
   "pygments_lexer": "ipython3",
   "version": "3.9.7"
  }
 },
 "nbformat": 4,
 "nbformat_minor": 5
}
