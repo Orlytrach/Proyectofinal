{
 "cells": [
  {
   "cell_type": "code",
   "execution_count": null,
   "id": "9accbb2a-03c8-4325-b474-292c21228754",
   "metadata": {},
   "outputs": [],
   "source": [
    "%load_ext sql"
   ]
  },
  {
   "cell_type": "code",
   "execution_count": null,
   "id": "bb5a0191-efd8-4795-9a01-2acced536a75",
   "metadata": {},
   "outputs": [],
   "source": [
    "DB_ENDPOINT = 'db-final.cthok7dcfpd8.us-east-1.rds.amazonaws.com'\n",
    "DB = 'db-final' \n",
    "DB_USER = 'admin'\n",
    "DB_PASSWORD = 'Mateo1112.13'\n",
    "DB_PORT = '3306'\n"
   ]
  },
  {
   "cell_type": "code",
   "execution_count": null,
   "id": "5cbb00b4-a245-41a1-ab29-1ff5c45b0c59",
   "metadata": {},
   "outputs": [],
   "source": [
    "mysql_conn = 'mysql+pymysql://{}:{}@{}/{}'.format(DB_USER, DB_PASSWORD, DB_ENDPOINT, DB) \n",
    "print(mysql_conn)"
   ]
  },
  {
   "cell_type": "code",
   "execution_count": null,
   "id": "47129720-f1e8-4f75-9d0e-5296f3276f71",
   "metadata": {},
   "outputs": [],
   "source": [
    "%sql $mysql_conn"
   ]
  },
  {
   "cell_type": "code",
   "execution_count": null,
   "id": "a8bc5323-ef1e-4964-b4c9-2de14435804f",
   "metadata": {},
   "outputs": [],
   "source": [
    "%sql    \n",
    "SELECT* FROM ventas;"
   ]
  },
  {
   "cell_type": "code",
   "execution_count": null,
   "id": "3b2e4d1d-985d-4db6-a56c-ae8b04f12de5",
   "metadata": {},
   "outputs": [],
   "source": [
    "import pandas as pd\n",
    "sql_query ='SELECT* FROM ventas:'\n",
    "df = pd.readsql (sql_query, mysql_conn)\n",
    "df.head ()"
   ]
  },
  {
   "cell_type": "code",
   "execution_count": null,
   "id": "0df54c40-b716-4c8b-b807-2202f9f8dd88",
   "metadata": {},
   "outputs": [],
   "source": [
    "sql_query ='SELECT* FROM ventas:'\n",
    "dfVentas = pd.readsql (sql_query, mysql_conn)\n",
    "\n",
    "sql_query ='SELECT* FROM contrato:'\n",
    "dfContrato = pd.readsql (sql_query, mysql_conn)\n",
    "\n",
    "sql_query ='SELECT* FROM cliente:'\n",
    "dfCliente = pd.readsql (sql_query, mysql_conn)\n",
    "\n",
    "sql_query ='SELECT* FROM dispositivo:'\n",
    "dfDispositivo = pd.readsql (sql_query, mysql_conn)\n",
    "\n",
    "sql_query ='SELECT* FROM vehiculo:'\n",
    "dfVehiculo = pd.readsql (sql_query, mysql_conn)\n",
    "\n",
    "sql_query ='SELECT* FROM vendedor:'\n",
    "dfVendedor = pd.readsql (sql_query, mysql_conn)\n",
    "\n",
    "sql_query ='SELECT* FROM pais:'\n",
    "dfPais = pd.readsql (sql_query, mysql_conn)\n",
    "\n",
    "sql_query ='SELECT* FROM usuario:'\n",
    "dfUsuario = pd.readsql (sql_query, mysql_conn)\n"
   ]
  },
  {
   "cell_type": "code",
   "execution_count": null,
   "id": "6f5f8296-d818-488b-b8e3-b2ac81c4329f",
   "metadata": {},
   "outputs": [],
   "source": [
    "dfPais.head ()"
   ]
  },
  {
   "cell_type": "code",
   "execution_count": null,
   "id": "56dc3f0a-15d7-44d3-98b2-e035623aa7dc",
   "metadata": {},
   "outputs": [],
   "source": [
    "dfVen_Cli = dfVentas.merge(df.Cliente, left_on='cliente_sk', right_on='cliente_sk')\n",
    "dfVen_Cli.head()"
   ]
  },
  {
   "cell_type": "code",
   "execution_count": null,
   "id": "82393618-fd93-455d-82c8-d9582b016fbc",
   "metadata": {},
   "outputs": [],
   "source": [
    "dfVen_Cont = dfVentas.merge(df.Cliente, left_on='contrato_sk', right_on='contrato_sk')\n",
    "dfVen_Cli.head()"
   ]
  },
  {
   "cell_type": "code",
   "execution_count": null,
   "id": "6b711832-8e13-4739-a6e1-f771ee92d56d",
   "metadata": {},
   "outputs": [],
   "source": [
    "dimPais = dimPais.loc [: , ['Pais_sk', 'Pais']]\n",
    "dimPais.head()"
   ]
  },
  {
   "cell_type": "code",
   "execution_count": null,
   "id": "4fe47e74-8bfa-4604-97a1-9a8313fdb8f2",
   "metadata": {},
   "outputs": [],
   "source": [
    "dimDispositivo = dimDispositivo.loc [: , ['Dispositivo_sk', 'Serie', 'Descripcion']]\n",
    "dimDispositivo.head()"
   ]
  },
  {
   "cell_type": "code",
   "execution_count": null,
   "id": "410a52bb-7c0b-4e95-b9c3-020e33b5da0c",
   "metadata": {},
   "outputs": [],
   "source": [
    "dimVendedor = dimVendedor.loc [: , ['Vendedor_sk', 'Vendedor']]\n",
    "dimVendedor.head()"
   ]
  },
  {
   "cell_type": "code",
   "execution_count": null,
   "id": "619b932a-0fa7-4396-9c54-b61fe390002b",
   "metadata": {},
   "outputs": [],
   "source": [
    "dimControl = dimControl.loc [: , ['Contrato_sk', 'Correlativo', 'Codigo_Plan', 'Descripcion_Plan', 'Frecuencia', 'Periodo']]\n",
    "dimControl.head()   "
   ]
  },
  {
   "cell_type": "code",
   "execution_count": null,
   "id": "12ba9efb-ac4d-4fae-96cf-4d53af386dcb",
   "metadata": {},
   "outputs": [],
   "source": [
    "dimCliente = dimCliente.loc [: , ['Cliente_sk', 'Codigo_Cliente', 'Nombre', 'NIT', 'Correo']]\n",
    "dimCliente.head() "
   ]
  },
  {
   "cell_type": "code",
   "execution_count": null,
   "id": "e0a33e6e-8ced-4a7a-9de7-34681d5ee59c",
   "metadata": {},
   "outputs": [],
   "source": [
    "dimVehiculo = dimVehiculo.loc [: , ['Vehiculo_sk', 'Codigo_Vehiculo', 'Fabricante', 'Clase', 'Tipo', 'Linea']]\n",
    "dimVehiculo.head()   "
   ]
  },
  {
   "cell_type": "code",
   "execution_count": null,
   "id": "3587c224-7f09-4c28-8ca2-adbb4090e44e",
   "metadata": {},
   "outputs": [],
   "source": [
    "sql_query ='SELECT* FROM contrato:'\n",
    "dfContrato = pd.readsql (sql_query, mysql_conn)\n",
    "dfContrato = dfContrato.loc[:, ['Contrato_sk']]\n",
    "dfContrato.head()"
   ]
  },
  {
   "cell_type": "code",
   "execution_count": null,
   "id": "bdfe2b35-663a-46c4-ae0d-3bc174777b8e",
   "metadata": {},
   "outputs": [],
   "source": [
    "sql_query ='SELECT* FROM cliente:'\n",
    "dfCliente = pd.readsql (sql_query, mysql_conn)\n",
    "dfCliente = dfCliente.loc[:, ['Cliente_sk']]\n",
    "dfCliente.head()"
   ]
  },
  {
   "cell_type": "code",
   "execution_count": null,
   "id": "2c30eb4c-bed6-4ff3-af71-bd2e2435eaee",
   "metadata": {},
   "outputs": [],
   "source": [
    "sql_query ='SELECT* FROM dispositivo:'\n",
    "dfDispositivo = pd.readsql (sql_query, mysql_conn)\n",
    "dfDispositivo = dfDispositivo.loc[:, ['Dispositivo_sk']]\n",
    "dfDispositivo.head()"
   ]
  },
  {
   "cell_type": "code",
   "execution_count": null,
   "id": "fef39f0d-b9db-4aca-850f-3a2476dfe162",
   "metadata": {},
   "outputs": [],
   "source": [
    "sql_query ='SELECT* FROM vehiculo:'\n",
    "dfVehiculo = pd.readsql (sql_query, mysql_conn)\n",
    "dfVehiculo = dfVehiculo.loc[:, ['Vehiculo_sk']]\n",
    "dfVehiculo.head()"
   ]
  },
  {
   "cell_type": "code",
   "execution_count": null,
   "id": "7e05bcb2-3134-4ca8-a75b-d977ab1596b4",
   "metadata": {},
   "outputs": [],
   "source": [
    "sql_query ='SELECT* FROM vendedor:'\n",
    "dfVendedor = pd.readsql (sql_query, mysql_conn)\n",
    "dfVendedor = dfVendedor.loc[:, ['Vendedor_sk']]\n",
    "dfVendedor.head()"
   ]
  },
  {
   "cell_type": "code",
   "execution_count": null,
   "id": "51a644f6-5b57-4f7c-b31e-c66f0d7c716c",
   "metadata": {},
   "outputs": [],
   "source": [
    "sql_query ='SELECT* FROM pais:'\n",
    "dfPais = pd.readsql (sql_query, mysql_conn)\n",
    "dfPais = dfPais.loc[:, ['Pais_sk']]\n",
    "dfPais.head()"
   ]
  },
  {
   "cell_type": "code",
   "execution_count": null,
   "id": "9ef27dd8-b49f-4f71-86e5-ca3bfb073485",
   "metadata": {},
   "outputs": [],
   "source": [
    "sql_query ='SELECT* FROM usuario:'\n",
    "dfUsuario = pd.readsql (sql_query, mysql_conn)\n",
    "dfUsuario = dfUsuario.loc[:, ['Usuario_sk']]\n",
    "dfUsuario.head()"
   ]
  }
 ],
 "metadata": {
  "kernelspec": {
   "display_name": "Python 3 (ipykernel)",
   "language": "python",
   "name": "python3"
  },
  "language_info": {
   "codemirror_mode": {
    "name": "ipython",
    "version": 3
   },
   "file_extension": ".py",
   "mimetype": "text/x-python",
   "name": "python",
   "nbconvert_exporter": "python",
   "pygments_lexer": "ipython3",
   "version": "3.9.7"
  }
 },
 "nbformat": 4,
 "nbformat_minor": 5
}
